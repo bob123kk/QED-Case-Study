{
 "cells": [
  {
   "cell_type": "code",
   "execution_count": 141,
   "metadata": {},
   "outputs": [],
   "source": [
    "import d6tflow\n",
    "import luigi\n",
    "from luigi.util import inherits\n",
    "import sklearn, sklearn.datasets, sklearn.svm, sklearn.linear_model\n",
    "import pandas as pd\n",
    "import matplotlib.pyplot as plt\n",
    "import numpy as np\n",
    "import pymc3 as pm\n",
    "from sklearn.linear_model import LinearRegression\n",
    "from sklearn.metrics import mean_absolute_error as mape\n",
    "from theano import shared"
   ]
  },
  {
   "cell_type": "markdown",
   "metadata": {},
   "source": [
    "### Helper Functions"
   ]
  },
  {
   "cell_type": "code",
   "execution_count": 142,
   "metadata": {},
   "outputs": [],
   "source": [
    "def plot_forecast(taskModel,title):\n",
    "    posterior_mean = taskModel.output()['posterior_mean'].load()\n",
    "    upper_bound = taskModel.output()['upper_bound'].load()\n",
    "    lower_bound = taskModel.output()['lower_bound'].load()\n",
    "    MAPE = taskModel.output()['MAPE'].load()\n",
    "    test = TaskPreprocess().output()['test'].load()\n",
    "    test_Y = test['y'].values\n",
    "   \n",
    "    fig, ax = plt.subplots(figsize=(15,3))\n",
    "    ax.set_title (title)\n",
    "    ax.plot(posterior_mean,label='posterior mean')\n",
    "    ax.plot(test_Y,label='actual')\n",
    "    ax.plot(upper_bound,label='upper bound 95%',color='green',linestyle='--')\n",
    "    ax.plot(lower_bound,label='lower bound 5%',color='red', linestyle='--')\n",
    "\n",
    "    ax.set_xlabel('Data Points')\n",
    "    ax.fill_between(np.arange(len(test)), lower_bound, upper_bound,facecolor='red', alpha=0.05)\n",
    "    ax.set_ylabel('Value')\n",
    "    ax.set_xticks(np.arange(len(test)))\n",
    "    ax.legend()\n",
    "    plt.show()\n",
    "    plt.savefig('reports_plot.png')\n",
    "    \n",
    "    \n",
    "def accuracy(taskModel):\n",
    "    return 'MAPE: {}%'.format(taskModel.output()['MAPE'].load())"
   ]
  },
  {
   "cell_type": "code",
   "execution_count": 158,
   "metadata": {},
   "outputs": [
    {
     "name": "stdout",
     "output_type": "stream",
     "text": [
      "\n",
      "└─--[TaskTrain_Evaluate-{'do_preprocess': 'True', 'model': 'model_naive'} (\u001b[94mPENDING\u001b[0m)]\n",
      "   └─--[TaskPreprocess-{'do_preprocess': 'True'} (\u001b[92mCOMPLETE\u001b[0m)]\n",
      "      └─--[TaskGetData-{} (\u001b[92mCOMPLETE\u001b[0m)]\n"
     ]
    }
   ],
   "source": [
    "# define workflow\n",
    "class TaskGetData(d6tflow.tasks.TaskPqPandas):  # save dataframe as parquet\n",
    "    persist=['fred_df', 'credit_card_df']\n",
    "    def run(self):\n",
    "        fred_df = pd.read_parquet('fred_df.parquet', engine='pyarrow')\n",
    "        credit_card_df = pd.read_parquet('credit_card_df.parquet', engine='pyarrow')\n",
    "       \n",
    "        self.save({'fred_df':fred_df, 'credit_card_df':credit_card_df}) # quickly save dataframe\n",
    "        \n",
    "@d6tflow.requires(TaskGetData) # define dependency\n",
    "class TaskPreprocess(d6tflow.tasks.TaskPqPandas):\n",
    "    do_preprocess = luigi.BoolParameter(default=True) # parameter for preprocessing yes/no\n",
    "    persist=['train','test']\n",
    "    def run(self):\n",
    "        fred_df = self.input()['fred_df'].load() # quickly load required data\n",
    "        credit_card_df = self.input()['credit_card_df'].load()\n",
    "        \n",
    "        if self.do_preprocess:\n",
    "            fred_df_us_retail_advanced = fred_df[fred_df['type'] == 'us_retail_advanced'].reset_index()\n",
    "            fred_df_us_retail_advanced['date'] = fred_df_us_retail_advanced['date'].dt.to_period('M')\n",
    "            credit_card_df['optimized_date'] = pd.to_datetime(credit_card_df['optimized_date'])\n",
    "            credit_card_df_simple=credit_card_df[['optimized_date','state','panel_sales','yoy_trailing_four_week_sales']]\n",
    "            credit_card_df_simple=credit_card_df_simple.groupby(['optimized_date']).mean()    \n",
    "            credit_card_df_simple['optimized_date']=credit_card_df_simple.index\n",
    "            credit_card_df_simple['month_year'] = credit_card_df_simple['optimized_date'].dt.to_period('M')\n",
    "            credit_card_df_temp=credit_card_df_simple[['month_year','optimized_date','yoy_trailing_four_week_sales']]\n",
    "            credit_card_df_simple=credit_card_df_simple[['month_year','panel_sales']]\n",
    "            credit_card_df_simple=credit_card_df_simple.groupby(['month_year']).mean()\n",
    "            credit_card_df_temp=credit_card_df_temp.groupby(['month_year']).last()\n",
    "            credit_card_df_simple = credit_card_df_simple.join(credit_card_df_temp)\n",
    "            df_train = fred_df_us_retail_advanced.set_index('date').join(credit_card_df_simple)\n",
    "            \n",
    "            df_train = pd.DataFrame.dropna(df_train).reset_index()\n",
    "            df_train['y'] = df_train.value\n",
    "            df_train['Qtr'] = df_train.date.dt.quarter-1\n",
    "            drop_columns = ['index','type','value','optimized_date','date']\n",
    "            df_train = df_train.drop(drop_columns,axis=1)\n",
    "            df_train.iloc[:,:-1] = sklearn.preprocessing.scale(df_train.iloc[:,:-1])  # standardise to unit scale.\n",
    "\n",
    "            test_start  = int(len(df_train) * 0.7) # train test split\n",
    "            train = df_train[:test_start]\n",
    "            test = df_train[test_start:]\n",
    "        self.save({'train':train, 'test':test})\n",
    "\n",
    "@d6tflow.requires(TaskPreprocess) # automatically pass parameters upstream\n",
    "class TaskTrain_Evaluate(d6tflow.tasks.TaskPickle): # save output as pickle\n",
    "    model = luigi.Parameter(default='model_naive') # parameter for model selection\n",
    "    persist=['posterior_mean', 'upper_bound','lower_bound', 'MAPE']\n",
    "    \n",
    "    def run(self):\n",
    "        train = self.input()['train'].load()\n",
    "        test = self.input()['test'].load()\n",
    "        drop_col = ['y']\n",
    "        train_X = train.drop(drop_col,axis=1)\n",
    "        train_Y = train['y'].values\n",
    "        test_X = test.drop(drop_col,axis=1)\n",
    "        test_Y = test['y'].values\n",
    "        # set shared predictor\n",
    "        predictor_1 = np.asarray(train_X['panel_sales'])        \n",
    "        predictor_2 = np.asarray(train_X['yoy_trailing_four_week_sales'])   \n",
    "        obs_data = train_Y\n",
    "        \n",
    "        if self.model=='model_naive':\n",
    "            with pm.Model() as model_naive:\n",
    "                std = pm.Exponential(\"std\", 1.0)\n",
    "\n",
    "                beta_0 = pm.Normal(\"beta_0\", mu=0, sd=0.5)\n",
    "                beta_1 = pm.Normal(\"beta_1\", mu=0, sd=1)\n",
    "\n",
    "                # As data is on unit scale.\n",
    "                pred_1 = pm.Data(\"pred_1\", predictor_1)\n",
    "                \n",
    "                # Specify a linear model\n",
    "                mean = pm.Deterministic(\"mean\", beta_0  + beta_1 * pred_1)\n",
    "                obs = pm.Normal(\"obs\", mu=mean, sd=std, observed=obs_data)\n",
    "\n",
    "                with model_naive:\n",
    "                    trace = pm.sample(2000,tune=1000, cores=2)\n",
    "\n",
    "                predictors_1_out_of_sample = np.asarray(test_X['panel_sales'])\n",
    "                \n",
    "                with model_naive:\n",
    "                    # update values of predictors:\n",
    "                    pm.set_data({\"pred_1\": predictors_1_out_of_sample})\n",
    "                    # use the updated values and predict outcomes and probabilities:\n",
    "                    pp_trace = pm.sample_posterior_predictive(trace,samples=2000)\n",
    "\n",
    "                obs_simulations = pp_trace['obs']\n",
    "                obs_simulations_reshape = obs_simulations.T\n",
    "                upper_bound = np.quantile(obs_simulations_reshape, 0.95, axis=1)\n",
    "                lower_bound = np.quantile(obs_simulations_reshape, 0.05, axis=1)\n",
    "                posterior_mean = pp_trace['obs'].mean(axis=0)\n",
    "                MAPE = mape(test_Y,posterior_mean).round(2)\n",
    "\n",
    "        elif self.model=='model_add_regressor':\n",
    "\n",
    "            with pm.Model() as model_add_regressor:\n",
    "                std = pm.HalfCauchy(\"sd\", 2.0)\n",
    "\n",
    "                betas = pm.Normal(\"betas\", mu=0.0, sd=np.array([0.5, 1.0, 1.0]), shape=3)\n",
    "\n",
    "                # set predictors as shared variable to change them for PPCs:\n",
    "                pred_1 = pm.Data(\"pred_1\", predictor_1)\n",
    "                pred_2 = pm.Data(\"pred_2\", predictor_2)\n",
    "\n",
    "                mean = pm.Deterministic(\"mean\", betas[0] + betas[1] * pred_1 + betas[2] * pred_2)\n",
    "\n",
    "                obs = pm.Normal(\"obs\", mu=mean, sd=std, observed=obs_data)\n",
    "\n",
    "                with model_add_regressor:\n",
    "                    trace = pm.sample(2000,tune=1000, cores=2)\n",
    "\n",
    "                predictors_1_out_of_sample = np.asarray(test_X['panel_sales'])\n",
    "                predictors_2_out_of_sample = np.asarray(test_X['yoy_trailing_four_week_sales'])\n",
    "                \n",
    "                with model_add_regressor:\n",
    "                    # update values of predictors:\n",
    "                    pm.set_data({\"pred_1\": predictors_1_out_of_sample})\n",
    "                    pm.set_data({\"pred_2\": predictors_2_out_of_sample})\n",
    "                    # use the updated values and predict outcomes and probabilities:\n",
    "                    pp_trace = pm.sample_posterior_predictive(trace,samples=2000)\n",
    "\n",
    "                obs_simulations = pp_trace['obs']\n",
    "                obs_simulations_reshape = obs_simulations.T\n",
    "                upper_bound = np.quantile(obs_simulations_reshape, 0.95, axis=1)\n",
    "                lower_bound = np.quantile(obs_simulations_reshape, 0.05, axis=1)\n",
    "                posterior_mean = pp_trace['obs'].mean(axis=0)\n",
    "                MAPE = mape(test_Y,posterior_mean).round(2)\n",
    "        elif self.model=='model_Hierarchical':\n",
    "            N_group=4\n",
    "            # set shared predictor\n",
    "            obs_data = train_Y\n",
    "            quarter_index = train_X.Qtr.values\n",
    "\n",
    "            with pm.Model() as model_Hierarchical:\n",
    "                #Hyperpriors\n",
    "                mu_0 = pm.Normal('mu_0', mu=0, sd=2)\n",
    "                sd_0 = pm.Exponential(\"sd_0\", lam=1.0)\n",
    "                mu_1 = pm.Normal('mu_1', mu=0, sd=2)\n",
    "                sd_1 = pm.Exponential(\"sd_1\", lam=1.0)\n",
    "                std = pm.Exponential(\"std\", lam=1.0)\n",
    "                # parameters for each quarter group, distributed around group.\n",
    "                beta_0 = pm.Normal(\"beta_0\", mu=mu_0, sd=sd_0, shape=N_group)\n",
    "                beta_1 = pm.Normal(\"beta_1\", mu=mu_1, sd=sd_1, shape=N_group)\n",
    "\n",
    "                pred_1 = pm.Data(\"pred_1\", predictor_1)\n",
    "                quar_index = pm.Data(\"quarter_index_shared\", quarter_index)\n",
    "\n",
    "                mean = pm.Deterministic(\"mean\", beta_0[quar_index] + beta_1[quar_index] * pred_1)\n",
    "\n",
    "                obs = pm.Normal(\"obs\", mu=mean, sd=std, observed=obs_data)\n",
    "\n",
    "                with model_Hierarchical:\n",
    "                    trace_Hierarchical = pm.sample(2000,tune=5000, cores=2)\n",
    "\n",
    "                predictors_1_out_of_sample = np.asarray(test_X['panel_sales'])\n",
    "                quarter_index_out_of_sample = np.asarray(test_X['Qtr'])\n",
    "\n",
    "                outcomes_out_of_sample = test['y'].values\n",
    "                with model_Hierarchical:\n",
    "                    # update values of predictors:\n",
    "                    pm.set_data({\"pred_1\": predictors_1_out_of_sample})\n",
    "                    pm.set_data({\"quarter_index_shared\": quarter_index_out_of_sample})\n",
    "                    # use the updated values and predict outcomes and probabilities:\n",
    "                    pp_trace = pm.sample_posterior_predictive(trace_Hierarchical,samples=2000)\n",
    "\n",
    "                obs_simulations = pp_trace['obs']\n",
    "                obs_simulations_reshape = obs_simulations.T\n",
    "                upper_bound = np.quantile(obs_simulations_reshape, 0.95, axis=1)\n",
    "                lower_bound = np.quantile(obs_simulations_reshape, 0.05, axis=1)\n",
    "                posterior_mean = pp_trace['obs'].mean(axis=0)\n",
    "                MAPE = mape(test_Y,posterior_mean).round(2)\n",
    "        else:\n",
    "            raise ValueError('invalid model selection')\n",
    "        \n",
    "        self.save({'posterior_mean':posterior_mean, 'upper_bound':upper_bound,'lower_bound':lower_bound, 'MAPE':MAPE})\n",
    "\n",
    "d6tflow.preview(TaskTrain_Evaluate())"
   ]
  },
  {
   "cell_type": "code",
   "execution_count": 159,
   "metadata": {},
   "outputs": [
    {
     "name": "stderr",
     "output_type": "stream",
     "text": [
      "INFO: Informed scheduler that task   TaskTrain_Evaluate_True_model_naive_2e0d4d5183   has status   PENDING\n",
      "INFO: Informed scheduler that task   TaskPreprocess_True_e00389f8b2   has status   DONE\n",
      "INFO: Done scheduling tasks\n",
      "INFO: Running Worker with 1 processes\n",
      "INFO: [pid 25615] Worker Worker(salt=641365787, workers=1, host=us-retail-sales-forecast, username=jupyter, pid=25615) running   TaskTrain_Evaluate(do_preprocess=True, model=model_naive)\n",
      "Auto-assigning NUTS sampler...\n",
      "Initializing NUTS using jitter+adapt_diag...\n",
      "Multiprocess sampling (2 chains in 2 jobs)\n",
      "NUTS: [beta_1, beta_0, std]\n"
     ]
    },
    {
     "data": {
      "text/html": [
       "\n",
       "    <div>\n",
       "        <style>\n",
       "            /* Turns off some styling */\n",
       "            progress {\n",
       "                /* gets rid of default border in Firefox and Opera. */\n",
       "                border: none;\n",
       "                /* Needs to be in here for Safari polyfill so background images work as expected. */\n",
       "                background-size: auto;\n",
       "            }\n",
       "            .progress-bar-interrupted, .progress-bar-interrupted::-webkit-progress-bar {\n",
       "                background: #F44336;\n",
       "            }\n",
       "        </style>\n",
       "      <progress value='6000' class='' max='6000' style='width:300px; height:20px; vertical-align: middle;'></progress>\n",
       "      100.00% [6000/6000 00:04<00:00 Sampling 2 chains, 0 divergences]\n",
       "    </div>\n",
       "    "
      ],
      "text/plain": [
       "<IPython.core.display.HTML object>"
      ]
     },
     "metadata": {},
     "output_type": "display_data"
    },
    {
     "name": "stderr",
     "output_type": "stream",
     "text": [
      "Sampling 2 chains for 1_000 tune and 2_000 draw iterations (2_000 + 4_000 draws total) took 5 seconds.\n",
      "/opt/conda/lib/python3.7/site-packages/pymc3/sampling.py:1708: UserWarning: samples parameter is smaller than nchains times ndraws, some draws and/or chains may not be represented in the returned posterior predictive sample\n",
      "  \"samples parameter is smaller than nchains times ndraws, some draws \"\n"
     ]
    },
    {
     "data": {
      "text/html": [
       "\n",
       "    <div>\n",
       "        <style>\n",
       "            /* Turns off some styling */\n",
       "            progress {\n",
       "                /* gets rid of default border in Firefox and Opera. */\n",
       "                border: none;\n",
       "                /* Needs to be in here for Safari polyfill so background images work as expected. */\n",
       "                background-size: auto;\n",
       "            }\n",
       "            .progress-bar-interrupted, .progress-bar-interrupted::-webkit-progress-bar {\n",
       "                background: #F44336;\n",
       "            }\n",
       "        </style>\n",
       "      <progress value='2000' class='' max='2000' style='width:300px; height:20px; vertical-align: middle;'></progress>\n",
       "      100.00% [2000/2000 00:06<00:00]\n",
       "    </div>\n",
       "    "
      ],
      "text/plain": [
       "<IPython.core.display.HTML object>"
      ]
     },
     "metadata": {},
     "output_type": "display_data"
    },
    {
     "name": "stderr",
     "output_type": "stream",
     "text": [
      "INFO: [pid 25615] Worker Worker(salt=641365787, workers=1, host=us-retail-sales-forecast, username=jupyter, pid=25615) done      TaskTrain_Evaluate(do_preprocess=True, model=model_naive)\n",
      "INFO: Informed scheduler that task   TaskTrain_Evaluate_True_model_naive_2e0d4d5183   has status   DONE\n",
      "INFO: Worker Worker(salt=641365787, workers=1, host=us-retail-sales-forecast, username=jupyter, pid=25615) was stopped. Shutting down Keep-Alive thread\n",
      "INFO: \n",
      "===== Luigi Execution Summary =====\n",
      "\n",
      "Scheduled 2 tasks of which:\n",
      "* 1 complete ones were encountered:\n",
      "    - 1 TaskPreprocess(do_preprocess=True)\n",
      "* 1 ran successfully:\n",
      "    - 1 TaskTrain_Evaluate(do_preprocess=True, model=model_naive)\n",
      "\n",
      "This progress looks :) because there were no failed tasks or missing dependencies\n",
      "\n",
      "===== Luigi Execution Summary =====\n",
      "\n",
      "INFO: Informed scheduler that task   TaskTrain_Evaluate_True_model_add_regres_e0af7fc42a   has status   PENDING\n",
      "INFO: Informed scheduler that task   TaskPreprocess_True_e00389f8b2   has status   DONE\n",
      "INFO: Done scheduling tasks\n",
      "INFO: Running Worker with 1 processes\n",
      "INFO: [pid 25615] Worker Worker(salt=541212972, workers=1, host=us-retail-sales-forecast, username=jupyter, pid=25615) running   TaskTrain_Evaluate(do_preprocess=True, model=model_add_regressor)\n",
      "Auto-assigning NUTS sampler...\n",
      "Initializing NUTS using jitter+adapt_diag...\n",
      "Multiprocess sampling (2 chains in 2 jobs)\n",
      "NUTS: [betas, sd]\n"
     ]
    },
    {
     "data": {
      "text/html": [
       "\n",
       "    <div>\n",
       "        <style>\n",
       "            /* Turns off some styling */\n",
       "            progress {\n",
       "                /* gets rid of default border in Firefox and Opera. */\n",
       "                border: none;\n",
       "                /* Needs to be in here for Safari polyfill so background images work as expected. */\n",
       "                background-size: auto;\n",
       "            }\n",
       "            .progress-bar-interrupted, .progress-bar-interrupted::-webkit-progress-bar {\n",
       "                background: #F44336;\n",
       "            }\n",
       "        </style>\n",
       "      <progress value='6000' class='' max='6000' style='width:300px; height:20px; vertical-align: middle;'></progress>\n",
       "      100.00% [6000/6000 00:06<00:00 Sampling 2 chains, 0 divergences]\n",
       "    </div>\n",
       "    "
      ],
      "text/plain": [
       "<IPython.core.display.HTML object>"
      ]
     },
     "metadata": {},
     "output_type": "display_data"
    },
    {
     "name": "stderr",
     "output_type": "stream",
     "text": [
      "Sampling 2 chains for 1_000 tune and 2_000 draw iterations (2_000 + 4_000 draws total) took 6 seconds.\n",
      "/opt/conda/lib/python3.7/site-packages/pymc3/sampling.py:1708: UserWarning: samples parameter is smaller than nchains times ndraws, some draws and/or chains may not be represented in the returned posterior predictive sample\n",
      "  \"samples parameter is smaller than nchains times ndraws, some draws \"\n"
     ]
    },
    {
     "data": {
      "text/html": [
       "\n",
       "    <div>\n",
       "        <style>\n",
       "            /* Turns off some styling */\n",
       "            progress {\n",
       "                /* gets rid of default border in Firefox and Opera. */\n",
       "                border: none;\n",
       "                /* Needs to be in here for Safari polyfill so background images work as expected. */\n",
       "                background-size: auto;\n",
       "            }\n",
       "            .progress-bar-interrupted, .progress-bar-interrupted::-webkit-progress-bar {\n",
       "                background: #F44336;\n",
       "            }\n",
       "        </style>\n",
       "      <progress value='2000' class='' max='2000' style='width:300px; height:20px; vertical-align: middle;'></progress>\n",
       "      100.00% [2000/2000 00:06<00:00]\n",
       "    </div>\n",
       "    "
      ],
      "text/plain": [
       "<IPython.core.display.HTML object>"
      ]
     },
     "metadata": {},
     "output_type": "display_data"
    },
    {
     "name": "stderr",
     "output_type": "stream",
     "text": [
      "INFO: [pid 25615] Worker Worker(salt=541212972, workers=1, host=us-retail-sales-forecast, username=jupyter, pid=25615) done      TaskTrain_Evaluate(do_preprocess=True, model=model_add_regressor)\n",
      "INFO: Informed scheduler that task   TaskTrain_Evaluate_True_model_add_regres_e0af7fc42a   has status   DONE\n",
      "INFO: Worker Worker(salt=541212972, workers=1, host=us-retail-sales-forecast, username=jupyter, pid=25615) was stopped. Shutting down Keep-Alive thread\n",
      "INFO: \n",
      "===== Luigi Execution Summary =====\n",
      "\n",
      "Scheduled 2 tasks of which:\n",
      "* 1 complete ones were encountered:\n",
      "    - 1 TaskPreprocess(do_preprocess=True)\n",
      "* 1 ran successfully:\n",
      "    - 1 TaskTrain_Evaluate(do_preprocess=True, model=model_add_regressor)\n",
      "\n",
      "This progress looks :) because there were no failed tasks or missing dependencies\n",
      "\n",
      "===== Luigi Execution Summary =====\n",
      "\n",
      "INFO: Informed scheduler that task   TaskTrain_Evaluate_True_model_Hierarchic_2c48441e31   has status   DONE\n",
      "INFO: Done scheduling tasks\n",
      "INFO: Running Worker with 1 processes\n",
      "INFO: Worker Worker(salt=296814109, workers=1, host=us-retail-sales-forecast, username=jupyter, pid=25615) was stopped. Shutting down Keep-Alive thread\n",
      "INFO: \n",
      "===== Luigi Execution Summary =====\n",
      "\n",
      "Scheduled 1 tasks of which:\n",
      "* 1 complete ones were encountered:\n",
      "    - 1 TaskTrain_Evaluate(do_preprocess=True, model=model_Hierarchical)\n",
      "\n",
      "Did not run any tasks\n",
      "This progress looks :) because there were no failed tasks or missing dependencies\n",
      "\n",
      "===== Luigi Execution Summary =====\n",
      "\n"
     ]
    },
    {
     "data": {
      "text/plain": [
       "True"
      ]
     },
     "execution_count": 159,
     "metadata": {},
     "output_type": "execute_result"
    }
   ],
   "source": [
    "taskModel1=TaskTrain_Evaluate()\n",
    "taskModel2=TaskTrain_Evaluate(model='model_add_regressor')\n",
    "taskModel3=TaskTrain_Evaluate(model='model_Hierarchical')\n",
    "d6tflow.run(taskModel1)\n",
    "d6tflow.run(taskModel2)\n",
    "d6tflow.run(taskModel3)"
   ]
  },
  {
   "cell_type": "code",
   "execution_count": 160,
   "metadata": {},
   "outputs": [
    {
     "data": {
      "image/png": "[encoded data removed]",
      "text/plain": [
       "<Figure size 1080x216 with 1 Axes>"
      ]
     },
     "metadata": {
      "needs_background": "light"
     },
     "output_type": "display_data"
    },
    {
     "data": {
      "text/plain": [
       "<Figure size 432x288 with 0 Axes>"
      ]
     },
     "metadata": {},
     "output_type": "display_data"
    }
   ],
   "source": [
    "plot_forecast(taskModel3,'Model3')"
   ]
  },
  {
   "cell_type": "code",
   "execution_count": 161,
   "metadata": {},
   "outputs": [
    {
     "name": "stdout",
     "output_type": "stream",
     "text": [
      "MAPE: 0.52%\n",
      "MAPE: 0.48%\n",
      "MAPE: 0.46%\n"
     ]
    }
   ],
   "source": [
    "print(accuracy(taskModel1))\n",
    "print(accuracy(taskModel2))\n",
    "print(accuracy(taskModel3))"
   ]
  },
  {
   "cell_type": "code",
   "execution_count": null,
   "metadata": {},
   "outputs": [],
   "source": []
  }
 ],
 "metadata": {
  "environment": {
   "name": "common-cpu.m55",
   "type": "gcloud",
   "uri": "gcr.io/deeplearning-platform-release/base-cpu:m55"
  },
  "kernelspec": {
   "display_name": "Python 3",
   "language": "python",
   "name": "python3"
  },
  "language_info": {
   "codemirror_mode": {
    "name": "ipython",
    "version": 3
   },
   "file_extension": ".py",
   "mimetype": "text/x-python",
   "name": "python",
   "nbconvert_exporter": "python",
   "pygments_lexer": "ipython3",
   "version": "3.7.8"
  }
 },
 "nbformat": 4,
 "nbformat_minor": 4
}
